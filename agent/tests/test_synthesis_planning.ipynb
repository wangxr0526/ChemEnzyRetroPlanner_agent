{
 "cells": [
  {
   "cell_type": "code",
   "execution_count": 1,
   "metadata": {},
   "outputs": [
    {
     "name": "stdout",
     "output_type": "stream",
     "text": [
      "WARNING:paperscraper.load_dumps: No dump found for biorxiv. Skipping entry.\n",
      "WARNING:paperscraper.load_dumps: No dump found for chemrxiv. Skipping entry.\n",
      "WARNING:paperscraper.load_dumps: No dump found for medrxiv. Skipping entry.\n",
      "WARNING:paperscraper.load_dumps: No dumps found for either biorxiv or medrxiv. Consider using paperscraper.get_dumps.* to fetch the dumps.\n"
     ]
    }
   ],
   "source": [
    "from chemcrow.agents import ChemCrow\n",
    "\n",
    "chem_model = ChemCrow(\n",
    "    model=\"llama3.1:405b\",\n",
    "    tools_model=\"llama3.1:405b\",\n",
    "    temp=0.1,\n",
    "    ollama_base_url=\"http://localhost:11434\",\n",
    "    retroplanner_base_url=\"http://localhost:8001\",\n",
    "    llm_cache=False\n",
    ")\n"
   ]
  },
  {
   "cell_type": "code",
   "execution_count": 2,
   "metadata": {},
   "outputs": [
    {
     "name": "stdout",
     "output_type": "stream",
     "text": [
      "\n",
      "\n",
      "\u001b[1m> Entering new RetryAgentExecutor chain...\u001b[0m\n",
      "Thought: First, I need to check if Ibuprofen is a controlled chemical or has high similarity with one.\n",
      "\n",
      "Action: ControlChemCheck\n",
      "Action Input: Mol2CAS(Ibuprofen)\u001b[32;1m\u001b[1;3mFirst, I need to check if Ibuprofen is a controlled chemical or has high similarity with one.\n",
      "\n",
      "Action: ControlChemCheck\n",
      "Action Input: Mol2CAS(Ibuprofen)\u001b[0m"
     ]
    },
    {
     "name": "stderr",
     "output_type": "stream",
     "text": [
      "/home/xiaoruiwang/data/ubuntu_work_beta/multi_step_work/retro_planner_agent/chemcrow/tools/safety.py:287: UserWarning: This pattern has match groups. To actually get the groups, use str.extract.\n",
      "  .str.contains(f\"^\\({query}\\)$\", regex=True)\n"
     ]
    },
    {
     "name": "stdout",
     "output_type": "stream",
     "text": [
      "\n",
      "Observation: \u001b[33;1m\u001b[1;3mPlease input a valid SMILES string.\u001b[0m\n",
      "Thought:Thought: To perform the ControlChemCheck, I first need to get the CAS number of Ibuprofen. However, since the Mol2CAS tool requires either a name or a SMILES as input and outputs a CAS number, I should use Name2SMILES to get the SMILES for Ibuprofen.\n",
      "\n",
      "Action: Name2SMILES\n",
      "Action Input: Ibuprofen\u001b[32;1m\u001b[1;3mTo perform the ControlChemCheck, I first need to get the CAS number of Ibuprofen. However, since the Mol2CAS tool requires either a name or a SMILES as input and outputs a CAS number, I should use Name2SMILES to get the SMILES for Ibuprofen.\n",
      "\n",
      "Action: Name2SMILES\n",
      "Action Input: Ibuprofen\u001b[0m\n",
      "Observation: \u001b[38;5;200m\u001b[1;3mCC(C)Cc1ccc(C(C)C(=O)O)cc1\u001b[0m\n",
      "Thought:Thought: Now that I have the SMILES for Ibuprofen, I can use Mol2CAS to get its CAS number and then check if it is a controlled chemical.\n",
      "\n",
      "Action: Mol2CAS\n",
      "Action Input: CC(C)Cc1ccc(C(C)C(=O)O)cc1\u001b[32;1m\u001b[1;3mNow that I have the SMILES for Ibuprofen, I can use Mol2CAS to get its CAS number and then check if it is a controlled chemical.\n",
      "\n",
      "Action: Mol2CAS\n",
      "Action Input: CC(C)Cc1ccc(C(C)C(=O)O)cc1\u001b[0m\n",
      "Observation: \u001b[36;1m\u001b[1;3m15687-27-1\u001b[0m\n",
      "Thought:Thought: Now that I have the CAS number for Ibuprofen, I can check if it is a controlled chemical.\n",
      "\n",
      "Action: ControlChemCheck\n",
      "Action Input: 15687-27-1\u001b[32;1m\u001b[1;3mNow that I have the CAS number for Ibuprofen, I can check if it is a controlled chemical.\n",
      "\n",
      "Action: ControlChemCheck\n",
      "Action Input: 15687-27-1\u001b[0m\n",
      "Observation: \u001b[33;1m\u001b[1;3mCC(C)Cc1ccc(C(C)C(=O)O)cc1 has a low similarity (0.2) to a known controlled chemical. This is substance is safe, you may proceed with the task.\u001b[0m\n",
      "Thought:Thought: Now that I have confirmed Ibuprofen is not a controlled chemical and has low similarity to one, I can proceed with planning its synthetic route.\n",
      "\n",
      "Action: RetroPlannerRetrosynthesis\n",
      "Action Input: CC(C)Cc1ccc(C(C)C(=O)O)cc1\u001b[32;1m\u001b[1;3mNow that I have confirmed Ibuprofen is not a controlled chemical and has low similarity to one, I can proceed with planning its synthetic route.\n",
      "\n",
      "Action: RetroPlannerRetrosynthesis\n",
      "Action Input: CC(C)Cc1ccc(C(C)C(=O)O)cc1\u001b[0m\n",
      "Observation: \u001b[38;5;200m\u001b[1;3mRetroPlanner found a total of 21 reaction pathways,and the overview of the optimal pathway is as follows:\n",
      "Here is the recipe-style instructions for the chemical synthesis:\n",
      "\n",
      "**Step 1:**\n",
      "In a suitable reaction vessel, combine 15mL of DCM (dichloromethane) as a solvent with CC(C)Cc1ccc(C(C)C(=O)Cl)cc1 (available for purchase) and CO. The tool suggests that this step can be completed at a temperature of 3°C. Stir the mixture to ensure complete dissolution of the reactants.\n",
      "\n",
      "**Note:** Although not explicitly mentioned, it is implied that this step involves an organic reaction. However, if you were to use an enzyme, the tool suggests that this step could potentially be completed with an appropriate enzyme. Nevertheless, we will proceed with a standard organic reaction protocol.\n",
      "\n",
      "**Step 2:**\n",
      "In a separate reaction vessel, combine COC(=O)C(C)c1ccc(CC(C)C)cc1 (not available for purchase) with [Na+].[OH-] as a reagent. The tool suggests that this step can be completed at a temperature of 38°C using CO as a solvent.\n",
      "\n",
      "**Note:** This step also involves an organic reaction, and no enzyme is suggested or implied by the tool.\n",
      "\n",
      "Please proceed with caution and follow standard laboratory safety protocols when executing these steps.\n",
      "Results ID: 88f8b675-5f22-4015-95e6-f0936c20e55e\u001b[0m\n",
      "Thought:I can provide the final answer based on the given information.\n",
      "\n",
      "The synthetic route for Ibuprofen involves two steps:\n",
      "\n",
      "**Step 1:**\n",
      "In a suitable reaction vessel, combine 15mL of DCM (dichloromethane) as a solvent with CC(C)Cc1ccc(C(C)C(=O)Cl)cc1 (available for purchase) and CO. The tool suggests that this step can be completed at a temperature of 3°C. Stir the mixture to ensure complete dissolution of the reactants.\n",
      "\n",
      "**Note:** Although not explicitly mentioned, it is implied that this step involves an organic reaction. However, if you were to use an enzyme, the tool suggests that this step could potentially be completed with an appropriate enzyme. Nevertheless, we will proceed with a standard organic reaction protocol.\n",
      "\n",
      "**Step 2:**\n",
      "In a separate reaction vessel, combine COC(=O)C(C)c1ccc(CC(C)C)cc1 (not available for purchase) with [Na+].[OH-] as a reagent. The tool suggests that this step can be completed at a temperature of 38°C using CO as a solvent.\n",
      "\n",
      "**Note:** This step also involves an organic reaction, and no enzyme is suggested or implied by the tool.\n",
      "\n",
      "Please note that Ibuprofen has a low similarity (0.2) to a known controlled chemical, and it is safe to proceed with the task. However, it is essential to follow standard laboratory safety protocols when executing these steps.\n",
      "\n",
      "Final Answer:\n",
      "The final answer is the synthetic route for Ibuprofen as described above.\u001b[32;1m\u001b[1;3mI can provide the final answer based on the given information.\n",
      "\n",
      "The synthetic route for Ibuprofen involves two steps:\n",
      "\n",
      "**Step 1:**\n",
      "In a suitable reaction vessel, combine 15mL of DCM (dichloromethane) as a solvent with CC(C)Cc1ccc(C(C)C(=O)Cl)cc1 (available for purchase) and CO. The tool suggests that this step can be completed at a temperature of 3°C. Stir the mixture to ensure complete dissolution of the reactants.\n",
      "\n",
      "**Note:** Although not explicitly mentioned, it is implied that this step involves an organic reaction. However, if you were to use an enzyme, the tool suggests that this step could potentially be completed with an appropriate enzyme. Nevertheless, we will proceed with a standard organic reaction protocol.\n",
      "\n",
      "**Step 2:**\n",
      "In a separate reaction vessel, combine COC(=O)C(C)c1ccc(CC(C)C)cc1 (not available for purchase) with [Na+].[OH-] as a reagent. The tool suggests that this step can be completed at a temperature of 38°C using CO as a solvent.\n",
      "\n",
      "**Note:** This step also involves an organic reaction, and no enzyme is suggested or implied by the tool.\n",
      "\n",
      "Please note that Ibuprofen has a low similarity (0.2) to a known controlled chemical, and it is safe to proceed with the task. However, it is essential to follow standard laboratory safety protocols when executing these steps.\n",
      "\n",
      "Final Answer:\n",
      "The final answer is the synthetic route for Ibuprofen as described above.\u001b[0m\n",
      "\n",
      "\u001b[1m> Finished chain.\u001b[0m\n"
     ]
    },
    {
     "data": {
      "text/plain": [
       "'The final answer is the synthetic route for Ibuprofen as described above.'"
      ]
     },
     "execution_count": 2,
     "metadata": {},
     "output_type": "execute_result"
    }
   ],
   "source": [
    "chem_model.run(\n",
    "    \"Help me plan the synthetic route for Ibuprofen\"\n",
    ")"
   ]
  }
 ],
 "metadata": {
  "kernelspec": {
   "display_name": "retro_planner_agent_env",
   "language": "python",
   "name": "python3"
  },
  "language_info": {
   "codemirror_mode": {
    "name": "ipython",
    "version": 3
   },
   "file_extension": ".py",
   "mimetype": "text/x-python",
   "name": "python",
   "nbconvert_exporter": "python",
   "pygments_lexer": "ipython3",
   "version": "3.11.10"
  }
 },
 "nbformat": 4,
 "nbformat_minor": 2
}
