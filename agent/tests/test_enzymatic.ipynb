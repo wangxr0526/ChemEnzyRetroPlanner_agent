{
 "cells": [
  {
   "cell_type": "code",
   "execution_count": 1,
   "metadata": {},
   "outputs": [
    {
     "name": "stdout",
     "output_type": "stream",
     "text": [
      "WARNING:paperscraper.load_dumps: No dump found for biorxiv. Skipping entry.\n",
      "WARNING:paperscraper.load_dumps: No dump found for chemrxiv. Skipping entry.\n",
      "WARNING:paperscraper.load_dumps: No dump found for medrxiv. Skipping entry.\n",
      "WARNING:paperscraper.load_dumps: No dumps found for either biorxiv or medrxiv. Consider using paperscraper.get_dumps.* to fetch the dumps.\n"
     ]
    }
   ],
   "source": [
    "from chemcrow.agents import ChemCrow\n",
    "\n",
    "chem_model = ChemCrow(\n",
    "    model=\"llama3.1:70b\",\n",
    "    tools_model=\"llama3.1:70b\",\n",
    "    temp=0.1,\n",
    "    ollama_base_url=\"http://localhost:11434\",\n",
    "    retroplanner_base_url=\"http://localhost:8001\",\n",
    "    llm_cache=False\n",
    ")\n"
   ]
  },
  {
   "cell_type": "code",
   "execution_count": 2,
   "metadata": {},
   "outputs": [
    {
     "name": "stdout",
     "output_type": "stream",
     "text": [
      "\n",
      "\n",
      "\u001b[1m> Entering new RetryAgentExecutor chain...\u001b[0m\n",
      "Thought: The question involves a specific chemical reaction, so I will first check if the reaction is feasible using ReactionRater.\n",
      "Action: ReactionRater\n",
      "Action Input: O=C[C@H](O)COP(=O)(O)O.O=C[C@H](O)COP(=O)(O)O>>O=Cc1cc(COP(=O)(O)O)co1\u001b[32;1m\u001b[1;3mThe question involves a specific chemical reaction, so I will first check if the reaction is feasible using ReactionRater.\n",
      "Action: ReactionRater\n",
      "Action Input: O=C[C@H](O)COP(=O)(O)O.O=C[C@H](O)COP(=O)(O)O>>O=Cc1cc(COP(=O)(O)O)co1\u001b[0m\n",
      "Observation: \u001b[33;1m\u001b[1;3mReactionRater has determined the feasibility of the entered reaction, using 0.75 as the threshold. The reaction is deemed feasible with a confidence score of 0.9976.\u001b[0m\n",
      "Thought:Thought: Since the reaction is feasible, I will now check if it can be catalyzed by an enzyme using EnzymaticRXNIdentifier.\n",
      "Action: EnzymaticRXNIdentifier\n",
      "Action Input: O=C[C@H](O)COP(=O)(O)O.O=C[C@H](O)COP(=O)(O)O>>O=Cc1cc(COP(=O)(O)O)co1\u001b[32;1m\u001b[1;3mSince the reaction is feasible, I will now check if it can be catalyzed by an enzyme using EnzymaticRXNIdentifier.\n",
      "Action: EnzymaticRXNIdentifier\n",
      "Action Input: O=C[C@H](O)COP(=O)(O)O.O=C[C@H](O)COP(=O)(O)O>>O=Cc1cc(COP(=O)(O)O)co1\u001b[0m\n",
      "Observation: \u001b[38;5;200m\u001b[1;3mEnzymaticRXNIdentifier determines the reaction as an 'Enzymatic Reaction' with a confidence of 0.9975, suggesting that it is very likely that an enzyme exists that can catalyze this reaction.\u001b[0m\n",
      "Thought:Thought: Since the reaction is enzymatic, I will now use EnzymeRecommender to suggest some enzymes that could catalyze this reaction.\n",
      "Action: EnzymeRecommender\n",
      "Action Input: O=C[C@H](O)COP(=O)(O)O.O=C[C@H](O)COP(=O)(O)O>>O=Cc1cc(COP(=O)(O)O)co1\u001b[32;1m\u001b[1;3mSince the reaction is enzymatic, I will now use EnzymeRecommender to suggest some enzymes that could catalyze this reaction.\n",
      "Action: EnzymeRecommender\n",
      "Action Input: O=C[C@H](O)COP(=O)(O)O.O=C[C@H](O)COP(=O)(O)O>>O=Cc1cc(COP(=O)(O)O)co1\u001b[0m\n",
      "Observation: \u001b[36;1m\u001b[1;3mEnzymeRecommender has recommended five types of enzymes most likely to catalyze this enzymatic reaction. The enzyme with the highest confidence has an EC Number of 4.2.3.153, with a confidence score of 0.3960. The five predicted results are as follows:\n",
      "\n",
      "| EC Number   |   Confidence |\n",
      "|:------------|-------------:|\n",
      "| 4.2.3.153   |    0.396013  |\n",
      "| 1.1.1.71    |    0.111802  |\n",
      "| 1.1.1.1     |    0.0184242 |\n",
      "| 1.3.1.74    |    0.0170486 |\n",
      "| 1.14.13.-   |    0.0160479 |\u001b[0m\n",
      "Thought:The final answer to the user's question is as follows:\n",
      "\n",
      "The reaction (reaction SMILES:O=C[C@H](O)COP(=O)(O)O.O=C[C@H](O)COP(=O)(O)O>>O=Cc1cc(COP(=O)(O)O)co1 ) can occur, with a confidence score of 0.9976.\n",
      "\n",
      "This reaction is very likely to be an enzymatic reaction, with a confidence score of 0.9975.\n",
      "\n",
      "Some enzymes that could catalyze this reaction are:\n",
      "\n",
      "* EC Number: 4.2.3.153 (confidence score: 0.396013)\n",
      "* EC Number: 1.1.1.71 (confidence score: 0.111802)\n",
      "* EC Number: 1.1.1.1 (confidence score: 0.0184242)\n",
      "* EC Number: 1.3.1.74 (confidence score: 0.0170486)\n",
      "* EC Number: 1.14.13.- (confidence score: 0.0160479)\n",
      "\n",
      "Please note that the confidence scores are based on the predictions of EnzymeRecommender and may not reflect the actual likelihood of these enzymes catalyzing this reaction.\n",
      "\n",
      "No warnings or errors were encountered during the analysis.\u001b[32;1m\u001b[1;3mThe final answer to the user's question is as follows:\n",
      "\n",
      "The reaction (reaction SMILES:O=C[C@H](O)COP(=O)(O)O.O=C[C@H](O)COP(=O)(O)O>>O=Cc1cc(COP(=O)(O)O)co1 ) can occur, with a confidence score of 0.9976.\n",
      "\n",
      "This reaction is very likely to be an enzymatic reaction, with a confidence score of 0.9975.\n",
      "\n",
      "Some enzymes that could catalyze this reaction are:\n",
      "\n",
      "* EC Number: 4.2.3.153 (confidence score: 0.396013)\n",
      "* EC Number: 1.1.1.71 (confidence score: 0.111802)\n",
      "* EC Number: 1.1.1.1 (confidence score: 0.0184242)\n",
      "* EC Number: 1.3.1.74 (confidence score: 0.0170486)\n",
      "* EC Number: 1.14.13.- (confidence score: 0.0160479)\n",
      "\n",
      "Please note that the confidence scores are based on the predictions of EnzymeRecommender and may not reflect the actual likelihood of these enzymes catalyzing this reaction.\n",
      "\n",
      "No warnings or errors were encountered during the analysis.\u001b[0m\n",
      "\n",
      "\u001b[1m> Finished chain.\u001b[0m\n"
     ]
    },
    {
     "data": {
      "text/plain": [
       "\"The final answer to the user's question is as follows:\\n\\nThe reaction (reaction SMILES:O=C[C@H](O)COP(=O)(O)O.O=C[C@H](O)COP(=O)(O)O>>O=Cc1cc(COP(=O)(O)O)co1 ) can occur, with a confidence score of 0.9976.\\n\\nThis reaction is very likely to be an enzymatic reaction, with a confidence score of 0.9975.\\n\\nSome enzymes that could catalyze this reaction are:\\n\\n* EC Number: 4.2.3.153 (confidence score: 0.396013)\\n* EC Number: 1.1.1.71 (confidence score: 0.111802)\\n* EC Number: 1.1.1.1 (confidence score: 0.0184242)\\n* EC Number: 1.3.1.74 (confidence score: 0.0170486)\\n* EC Number: 1.14.13.- (confidence score: 0.0160479)\\n\\nPlease note that the confidence scores are based on the predictions of EnzymeRecommender and may not reflect the actual likelihood of these enzymes catalyzing this reaction.\\n\\nNo warnings or errors were encountered during the analysis.\""
      ]
     },
     "execution_count": 2,
     "metadata": {},
     "output_type": "execute_result"
    }
   ],
   "source": [
    "chem_model.run(\n",
    "    \"Please determine whether the reaction (reaction SMILES:O=C[C@H](O)COP(=O)(O)O.O=C[C@H](O)COP(=O)(O)O>>O=Cc1cc(COP(=O)(O)O)co1 ) can occur, and if it can, assess whether it can be catalyzed by an enzyme. If further enzymatic catalysis is possible, please recommend some enzymes that could catalyze this reaction\"\n",
    ")"
   ]
  },
  {
   "cell_type": "code",
   "execution_count": null,
   "metadata": {},
   "outputs": [
    {
     "name": "stdout",
     "output_type": "stream",
     "text": [
      "\n",
      "\n",
      "\u001b[1m> Entering new RetryAgentExecutor chain...\u001b[0m\n"
     ]
    },
    {
     "name": "stdout",
     "output_type": "stream",
     "text": [
      "Thought: The question asks for a specific enzyme recommendation, given an enzymatic reaction SMILES and an EC number. To answer this question, I need to use EasIFAAnotator to retrieve the structure of the specific enzyme and predict the active site for the reaction.\n",
      "\n",
      "Action: EasIFAAnotator\n",
      "Action Input: O=C[C@H](O)COP(=O)(O)O.O=C[C@H](O)COP(=O)(O)O>>O=Cc1cc(COP(=O)(O)O)co1??4.2.3.153\u001b[32;1m\u001b[1;3mThe question asks for a specific enzyme recommendation, given an enzymatic reaction SMILES and an EC number. To answer this question, I need to use EasIFAAnotator to retrieve the structure of the specific enzyme and predict the active site for the reaction.\n",
      "\n",
      "Action: EasIFAAnotator\n",
      "Action Input: O=C[C@H](O)COP(=O)(O)O.O=C[C@H](O)COP(=O)(O)O>>O=Cc1cc(COP(=O)(O)O)co1??4.2.3.153\u001b[0m\n",
      "Observation: \u001b[33;1m\u001b[1;3mBased on the given reaction and the corresponding enzyme's EC number, EasIFA has identified an enzyme that may have the capability to catalyze this reaction, with the UniProt ID of Q58499. The information about its active sites is as follows:\n",
      "\n",
      "Based on the provided table, the enzyme (UniProt ID: Q58499) has two active sites:\n",
      "\n",
      "1. The first active site is located at residue index 27 and consists of a lysine (LYS) residue, which functions as a catalytic site.\n",
      "2. The second active site is located at residue index 85 and also consists of a lysine (LYS) residue, which functions as a catalytic site.\n",
      "\n",
      "In summary, the enzyme has two catalytic sites, both of which are composed of lysine residues, located at positions 27 and 85 in the protein sequence.\n",
      "\n",
      "\n",
      "results_id:easifa_16c479a9-461f-4063-9830-3fb110e5ebfd\n",
      "\n",
      "\n",
      "Enzyme Active Site Informations:\n",
      "\n",
      "|   Residue Index | Residue Name   | Active Type    |\n",
      "|----------------:|:---------------|:---------------|\n",
      "|              27 | LYS            | Catalytic Site |\n",
      "|              85 | LYS            | Catalytic Site |\u001b[0m\n",
      "Thought:Final Answer: The enzyme that can catalyze the given enzymatic reaction belongs to EC Number 4.2.3.153 and has a UniProt ID of Q58499. It has two active sites, both of which are composed of lysine residues located at positions 27 and 85 in the protein sequence.\u001b[32;1m\u001b[1;3mFinal Answer: The enzyme that can catalyze the given enzymatic reaction belongs to EC Number 4.2.3.153 and has a UniProt ID of Q58499. It has two active sites, both of which are composed of lysine residues located at positions 27 and 85 in the protein sequence.\u001b[0m\n",
      "\n",
      "\u001b[1m> Finished chain.\u001b[0m\n"
     ]
    },
    {
     "data": {
      "text/plain": [
       "'The enzyme that can catalyze the given enzymatic reaction belongs to EC Number 4.2.3.153 and has a UniProt ID of Q58499. It has two active sites, both of which are composed of lysine residues located at positions 27 and 85 in the protein sequence.'"
      ]
     },
     "execution_count": 3,
     "metadata": {},
     "output_type": "execute_result"
    }
   ],
   "source": [
    "chem_model.run(\n",
    "    \"The enzyme that can catalyze the enzyme-catalyzed reaction \"\n",
    "    \"(SMILES: O=C[C@H](O)COP(=O)(O)O.O=C[C@H](O)COP(=O)(O)O>>O=Cc1cc(COP(=O)(O)O)co1 ) belongs \"\n",
    "    \"to EC Number: 4.2.3.153 . Please recommend the most suitable \"\n",
    "    \"enzyme structure and indicate its active site.\"\n",
    ")"
   ]
  }
 ],
 "metadata": {
  "kernelspec": {
   "display_name": "retro_planner_agent_env",
   "language": "python",
   "name": "python3"
  },
  "language_info": {
   "codemirror_mode": {
    "name": "ipython",
    "version": 3
   },
   "file_extension": ".py",
   "mimetype": "text/x-python",
   "name": "python",
   "nbconvert_exporter": "python",
   "pygments_lexer": "ipython3",
   "version": "3.11.10"
  }
 },
 "nbformat": 4,
 "nbformat_minor": 2
}
